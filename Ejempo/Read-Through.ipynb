{
 "cells": [
  {
   "cell_type": "markdown",
   "metadata": {},
   "source": [
    "# Instalacion de dependencias\n",
    "## En windows\n",
    "```bash\n",
    "pip install redis\n",
    "```\n",
    "## En Debian \n",
    "```bash\n",
    "sudo apt install python3-redis\n",
    "sudo apt install python3-psycopg2\n",
    "\n",
    "```"
   ]
  },
  {
   "cell_type": "code",
   "execution_count": null,
   "metadata": {},
   "outputs": [],
   "source": [
    "import redis\n",
    "import psycopg2\n",
    "import time"
   ]
  },
  {
   "cell_type": "markdown",
   "metadata": {},
   "source": [
    "# Se configuran las cadenas de conexion\n",
    "Dentro de este repositorio hay un docker compose, puede ejecutarlo y remplaza los valores al igual que hay un script de sql para crear la tabla de la prueba"
   ]
  },
  {
   "cell_type": "code",
   "execution_count": null,
   "metadata": {},
   "outputs": [],
   "source": [
    "# Configuración del cliente de Redis\n",
    "redis_client = redis.StrictRedis(host='localhost', port=6379, db=0)\n",
    "\n",
    "# Configuración de la conexión a PostgreSQL\n",
    "conn = psycopg2.connect(dbname=\"Prueba\", user=\"Usuario_Prueba\", password=\"Password_Prueba\", host=\"localhost\")\n",
    "cursor = conn.cursor()\n"
   ]
  },
  {
   "cell_type": "markdown",
   "metadata": {},
   "source": [
    "# Función para obtener datos de PostgreSQL"
   ]
  },
  {
   "cell_type": "code",
   "execution_count": null,
   "metadata": {},
   "outputs": [],
   "source": [
    "def fetch_from_database(key):\n",
    "    print(\"Fetching from database...\")\n",
    "    cursor.execute(\"SELECT data FROM mytable WHERE id = %s\", (key,))\n",
    "    result = cursor.fetchone()\n",
    "    if result:\n",
    "        return result[0]\n",
    "    return None"
   ]
  },
  {
   "cell_type": "markdown",
   "metadata": {},
   "source": [
    "# Función para obtener datos utilizando Read Through Cache"
   ]
  },
  {
   "cell_type": "code",
   "execution_count": null,
   "metadata": {},
   "outputs": [],
   "source": [
    "\n",
    "def get_data(key):\n",
    "    # Intentar obtener los datos de la caché\n",
    "    cached_value = redis_client.get(key)\n",
    "    if cached_value:\n",
    "        print(\"Cache hit!\")\n",
    "        return int(cached_value)\n",
    "    else:\n",
    "        print(\"Cache miss!\")\n",
    "        # Si no está en la caché, obtener los datos de la base de datos\n",
    "        value = fetch_from_database(key)\n",
    "        if value is not None:\n",
    "            # Almacenar los datos en la caché con un tiempo de expiración de 10 segundos\n",
    "            redis_client.setex(key, 10, value)\n",
    "        return value"
   ]
  },
  {
   "cell_type": "markdown",
   "metadata": {},
   "source": [
    "# Función para obtener datos utilizando Read Through Cache"
   ]
  },
  {
   "cell_type": "code",
   "execution_count": null,
   "metadata": {},
   "outputs": [],
   "source": [
    "# Ejemplo de uso\n",
    "if __name__ == \"__main__\":\n",
    "    key = \"1\"\n",
    "    # Primera lectura (esperamos una miss y una consulta a la base de datos)\n",
    "    print(f\"Data: {get_data(key)}\")\n",
    "    # Segunda lectura (esperamos un hit en la caché)\n",
    "    print(f\"Data: {get_data(key)}\")\n",
    "    # Esperar a que la caché expire\n",
    "    time.sleep(11)\n",
    "    # Tercera lectura (esperamos otra miss y una consulta a la base de datos)\n",
    "    print(f\"Data: {get_data(key)}\")"
   ]
  },
  {
   "cell_type": "markdown",
   "metadata": {},
   "source": [
    "# Cerrar conexión"
   ]
  },
  {
   "cell_type": "code",
   "execution_count": null,
   "metadata": {},
   "outputs": [],
   "source": [
    "cursor.close()\n",
    "conn.close()"
   ]
  }
 ],
 "metadata": {
  "kernelspec": {
   "display_name": "Python 3",
   "language": "python",
   "name": "python3"
  },
  "language_info": {
   "name": "python",
   "version": "3.11.2"
  }
 },
 "nbformat": 4,
 "nbformat_minor": 2
}
